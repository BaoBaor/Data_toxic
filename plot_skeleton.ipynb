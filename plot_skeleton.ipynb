{
  "cells": [
    {
      "cell_type": "code",
      "execution_count": null,
      "metadata": {
        "collapsed": false
      },
      "outputs": [],
      "source": [
        "%matplotlib inline"
      ]
    },
    {
      "cell_type": "markdown",
      "metadata": {},
      "source": [
        "\n",
        "# Skeletonize\n",
        "\n",
        "Skeletonization reduces binary objects to 1 pixel wide representations. This\n",
        "can be useful for feature extraction, and/or representing an object's topology.\n",
        "\n",
        "``skeletonize`` works by making successive passes of the image. On each pass,\n",
        "border pixels are identified and removed on the condition that they do not\n",
        "break the connectivity of the corresponding object.\n"
      ]
    },
    {
      "cell_type": "code",
      "execution_count": null,
      "metadata": {
        "collapsed": false
      },
      "outputs": [],
      "source": [
        "from skimage.morphology import skeletonize\n",
        "from skimage import data\n",
        "import matplotlib.pyplot as plt\n",
        "from skimage.util import invert\n",
        "\n",
        "# Invert the horse image\n",
        "image = invert(data.horse())\n",
        "\n",
        "# perform skeletonization\n",
        "skeleton = skeletonize(image)\n",
        "\n",
        "# display results\n",
        "fig, axes = plt.subplots(nrows=1, ncols=2, figsize=(8, 4),\n",
        "                         sharex=True, sharey=True)\n",
        "\n",
        "ax = axes.ravel()\n",
        "\n",
        "ax[0].imshow(image, cmap=plt.cm.gray)\n",
        "ax[0].axis('off')\n",
        "ax[0].set_title('original', fontsize=20)\n",
        "\n",
        "ax[1].imshow(skeleton, cmap=plt.cm.gray)\n",
        "ax[1].axis('off')\n",
        "ax[1].set_title('skeleton', fontsize=20)\n",
        "\n",
        "fig.tight_layout()\n",
        "plt.show()"
      ]
    },
    {
      "cell_type": "markdown",
      "metadata": {},
      "source": [
        "**Zhang's method vs Lee's method**\n",
        "\n",
        "``skeletonize`` [Zha84]_ works by making successive passes of\n",
        "the image, removing pixels on object borders. This continues until no\n",
        "more pixels can be removed.  The image is correlated with a\n",
        "mask that assigns each pixel a number in the range [0...255]\n",
        "corresponding to each possible pattern of its 8 neighboring\n",
        "pixels. A look up table is then used to assign the pixels a\n",
        "value of 0, 1, 2 or 3, which are selectively removed during\n",
        "the iterations.\n",
        "\n",
        "``skeletonize(..., method='lee')`` [Lee94]_ uses an octree data structure\n",
        "to examine a 3x3x3 neighborhood of a pixel. The algorithm proceeds by\n",
        "iteratively sweeping over the image, and removing pixels at each iteration\n",
        "until the image stops changing. Each iteration consists of two steps: first,\n",
        "a list of candidates for removal is assembled; then pixels from this list\n",
        "are rechecked sequentially, to better preserve connectivity of the image.\n",
        "\n",
        "Note that Lee's method [Lee94]_ is designed to be used on 3-D images, and\n",
        "is selected automatically for those. For illustrative purposes, we apply\n",
        "this algorithm to a 2-D image.\n",
        "\n",
        ".. [Zha84] A fast parallel algorithm for thinning digital patterns,\n",
        "           T. Y. Zhang and C. Y. Suen, Communications of the ACM,\n",
        "           March 1984, Volume 27, Number 3.\n",
        "\n",
        ".. [Lee94] T.-C. Lee, R.L. Kashyap and C.-N. Chu, Building skeleton models\n",
        "           via 3-D medial surface/axis thinning algorithms.\n",
        "           Computer Vision, Graphics, and Image Processing, 56(6):462-478,\n",
        "           1994.\n",
        "\n",
        "\n"
      ]
    },
    {
      "cell_type": "code",
      "execution_count": null,
      "metadata": {
        "collapsed": false
      },
      "outputs": [],
      "source": [
        "import matplotlib.pyplot as plt\n",
        "from skimage.morphology import skeletonize\n",
        "\n",
        "blobs = data.binary_blobs(200, blob_size_fraction=.2,\n",
        "                          volume_fraction=.35, seed=1)\n",
        "\n",
        "skeleton = skeletonize(blobs)\n",
        "skeleton_lee = skeletonize(blobs, method='lee')\n",
        "\n",
        "fig, axes = plt.subplots(1, 3, figsize=(8, 4), sharex=True, sharey=True)\n",
        "ax = axes.ravel()\n",
        "\n",
        "ax[0].imshow(blobs, cmap=plt.cm.gray)\n",
        "ax[0].set_title('original')\n",
        "ax[0].axis('off')\n",
        "\n",
        "ax[1].imshow(skeleton, cmap=plt.cm.gray)\n",
        "ax[1].set_title('skeletonize')\n",
        "ax[1].axis('off')\n",
        "\n",
        "ax[2].imshow(skeleton_lee, cmap=plt.cm.gray)\n",
        "ax[2].set_title('skeletonize (Lee 94)')\n",
        "ax[2].axis('off')\n",
        "\n",
        "fig.tight_layout()\n",
        "plt.show()"
      ]
    },
    {
      "cell_type": "markdown",
      "metadata": {},
      "source": [
        "**Medial axis skeletonization**\n",
        "\n",
        "The medial axis of an object is the set of all points having more than one\n",
        "closest point on the object's boundary. It is often called the *topological\n",
        "skeleton*, because it is a 1-pixel wide skeleton of the object, with the same\n",
        "connectivity as the original object.\n",
        "\n",
        "Here, we use the medial axis transform to compute the width of the foreground\n",
        "objects. As the function ``medial_axis`` returns the distance transform in\n",
        "addition to the medial axis (with the keyword argument ``return_distance=True``),\n",
        "it is possible to compute the distance to the background for all points of\n",
        "the medial axis with this function. This gives an estimate of the local width\n",
        "of the objects.\n",
        "\n",
        "For a skeleton with fewer branches, ``skeletonize`` should be preferred.\n",
        "\n"
      ]
    },
    {
      "cell_type": "code",
      "execution_count": null,
      "metadata": {
        "collapsed": false
      },
      "outputs": [],
      "source": [
        "from skimage.morphology import medial_axis, skeletonize\n",
        "\n",
        "# Generate the data\n",
        "blobs = data.binary_blobs(200, blob_size_fraction=.2,\n",
        "                          volume_fraction=.35, seed=1)\n",
        "\n",
        "# Compute the medial axis (skeleton) and the distance transform\n",
        "skel, distance = medial_axis(blobs, return_distance=True)\n",
        "\n",
        "# Compare with other skeletonization algorithms\n",
        "skeleton = skeletonize(blobs)\n",
        "skeleton_lee = skeletonize(blobs, method='lee')\n",
        "\n",
        "# Distance to the background for pixels of the skeleton\n",
        "dist_on_skel = distance * skel\n",
        "\n",
        "fig, axes = plt.subplots(2, 2, figsize=(8, 8), sharex=True, sharey=True)\n",
        "ax = axes.ravel()\n",
        "\n",
        "ax[0].imshow(blobs, cmap=plt.cm.gray)\n",
        "ax[0].set_title('original')\n",
        "ax[0].axis('off')\n",
        "\n",
        "ax[1].imshow(dist_on_skel, cmap='magma')\n",
        "ax[1].contour(blobs, [0.5], colors='w')\n",
        "ax[1].set_title('medial_axis')\n",
        "ax[1].axis('off')\n",
        "\n",
        "ax[2].imshow(skeleton, cmap=plt.cm.gray)\n",
        "ax[2].set_title('skeletonize')\n",
        "ax[2].axis('off')\n",
        "\n",
        "ax[3].imshow(skeleton_lee, cmap=plt.cm.gray)\n",
        "ax[3].set_title(\"skeletonize (Lee 94)\")\n",
        "ax[3].axis('off')\n",
        "\n",
        "fig.tight_layout()\n",
        "plt.show()"
      ]
    },
    {
      "cell_type": "markdown",
      "metadata": {},
      "source": [
        "**Morphological thinning**\n",
        "\n",
        "Morphological thinning, implemented in the `thin` function, works on the\n",
        "same principle as `skeletonize`: remove pixels from the borders at each\n",
        "iteration until none can be removed without altering the connectivity. The\n",
        "different rules of removal can speed up skeletonization and result in\n",
        "different final skeletons.\n",
        "\n",
        "The `thin` function also takes an optional `max_num_iter` keyword argument to\n",
        "limit the number of thinning iterations, and thus produce a relatively\n",
        "thicker skeleton.\n",
        "\n"
      ]
    },
    {
      "cell_type": "code",
      "execution_count": 1,
      "metadata": {
        "collapsed": false
      },
      "outputs": [
        {
          "ename": "NameError",
          "evalue": "name 'image' is not defined",
          "output_type": "error",
          "traceback": [
            "\u001b[1;31m---------------------------------------------------------------------------\u001b[0m",
            "\u001b[1;31mNameError\u001b[0m                                 Traceback (most recent call last)",
            "\u001b[1;32mc:\\Users\\DINH QUOC BAO\\Documents\\data_toxic\\plot_skeleton.ipynb Cell 9\u001b[0m in \u001b[0;36m<cell line: 3>\u001b[1;34m()\u001b[0m\n\u001b[0;32m      <a href='vscode-notebook-cell:/c%3A/Users/DINH%20QUOC%20BAO/Documents/data_toxic/plot_skeleton.ipynb#X11sZmlsZQ%3D%3D?line=0'>1</a>\u001b[0m \u001b[39mfrom\u001b[39;00m \u001b[39mskimage\u001b[39;00m\u001b[39m.\u001b[39;00m\u001b[39mmorphology\u001b[39;00m \u001b[39mimport\u001b[39;00m skeletonize, thin\n\u001b[1;32m----> <a href='vscode-notebook-cell:/c%3A/Users/DINH%20QUOC%20BAO/Documents/data_toxic/plot_skeleton.ipynb#X11sZmlsZQ%3D%3D?line=2'>3</a>\u001b[0m skeleton \u001b[39m=\u001b[39m skeletonize(image)\n\u001b[0;32m      <a href='vscode-notebook-cell:/c%3A/Users/DINH%20QUOC%20BAO/Documents/data_toxic/plot_skeleton.ipynb#X11sZmlsZQ%3D%3D?line=3'>4</a>\u001b[0m thinned \u001b[39m=\u001b[39m thin(image)\n\u001b[0;32m      <a href='vscode-notebook-cell:/c%3A/Users/DINH%20QUOC%20BAO/Documents/data_toxic/plot_skeleton.ipynb#X11sZmlsZQ%3D%3D?line=4'>5</a>\u001b[0m thinned_partial \u001b[39m=\u001b[39m thin(image, max_num_iter\u001b[39m=\u001b[39m\u001b[39m25\u001b[39m)\n",
            "\u001b[1;31mNameError\u001b[0m: name 'image' is not defined"
          ]
        }
      ],
      "source": [
        "from skimage.morphology import skeletonize, thin\n",
        "\n",
        "skeleton = skeletonize(image)\n",
        "thinned = thin(image)\n",
        "thinned_partial = thin(image, max_num_iter=25)\n",
        "\n",
        "fig, axes = plt.subplots(2, 2, figsize=(8, 8), sharex=True, sharey=True)\n",
        "ax = axes.ravel()\n",
        "\n",
        "ax[0].imshow(image, cmap=plt.cm.gray)\n",
        "ax[0].set_title('original')\n",
        "ax[0].axis('off')\n",
        "\n",
        "ax[1].imshow(skeleton, cmap=plt.cm.gray)\n",
        "ax[1].set_title('skeleton')\n",
        "ax[1].axis('off')\n",
        "\n",
        "ax[2].imshow(thinned, cmap=plt.cm.gray)\n",
        "ax[2].set_title('thinned')\n",
        "ax[2].axis('off')\n",
        "\n",
        "ax[3].imshow(thinned_partial, cmap=plt.cm.gray)\n",
        "ax[3].set_title('partially thinned')\n",
        "ax[3].axis('off')\n",
        "\n",
        "fig.tight_layout()\n",
        "plt.show()"
      ]
    }
  ],
  "metadata": {
    "kernelspec": {
      "display_name": "Python 3",
      "language": "python",
      "name": "python3"
    },
    "language_info": {
      "codemirror_mode": {
        "name": "ipython",
        "version": 3
      },
      "file_extension": ".py",
      "mimetype": "text/x-python",
      "name": "python",
      "nbconvert_exporter": "python",
      "pygments_lexer": "ipython3",
      "version": "3.10.5"
    }
  },
  "nbformat": 4,
  "nbformat_minor": 0
}
